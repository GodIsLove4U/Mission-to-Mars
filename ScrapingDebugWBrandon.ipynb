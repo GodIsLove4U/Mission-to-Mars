{
 "cells": [
  {
   "cell_type": "code",
   "execution_count": 16,
   "metadata": {},
   "outputs": [],
   "source": [
    "from splinter import Browser\n",
    "from bs4 import BeautifulSoup\n",
    "import pandas as pd\n",
    "import datetime as dt"
   ]
  },
  {
   "cell_type": "code",
   "execution_count": 17,
   "metadata": {},
   "outputs": [],
   "source": [
    "# Visit the mars nasa news site\n",
    "browser = Browser(\"chrome\", executable_path=r\"\\Users\\dcohen\\Documents\\UCBE\\Mission-to-Mars\\apps\\chromedriver.exe\", headless=True)\n",
    "#browser = Browser('chrome', **executable_path, headless=False)\n"
   ]
  },
  {
   "cell_type": "code",
   "execution_count": 18,
   "metadata": {},
   "outputs": [
    {
     "name": "stdout",
     "output_type": "stream",
     "text": [
      "news_title NASA's Perseverance Rover Mission Getting in Shape for Launch news_paragraph Stacking spacecraft components on top of each other is one of the final assembly steps before a mission launches to the Red Planet. \n"
     ]
    }
   ],
   "source": [
    "url = 'https://mars.nasa.gov/news/'\n",
    "browser.visit(url)\n",
    "\n",
    "# Optional delay for loading the page\n",
    "browser.is_element_present_by_css(\"ul.item_list li.slide\", wait_time=1)\n",
    "\n",
    "# Convert the browser html to a soup object and then quit the browser\n",
    "html = browser.html\n",
    "news_soup = BeautifulSoup(html, 'html.parser')\n",
    " \n",
    "# Add try/except for error handling\n",
    "#try:\n",
    "slide_elem = news_soup.select_one(\"ul.item_list li.slide\")\n",
    "slide_elem.find(\"div\", class_=\"content_title\")\n",
    "    # Use the parent element to find the first 'a' tag and save it as 'news_title'   \n",
    "news_title = slide_elem.find(\"div\", class_=\"content_title\").get_text()\n",
    "    # Use the parent element to find the paragraph text\n",
    "news_paragraph = slide_elem.find(\"div\", class_=\"article_teaser_body\").get_text()\n",
    "\n",
    "#except AttributeError:\n",
    "   #return None, None\n",
    "\n",
    "print('news_title', news_title, 'news_paragraph', news_paragraph)"
   ]
  },
  {
   "cell_type": "code",
   "execution_count": null,
   "metadata": {},
   "outputs": [],
   "source": []
  },
  {
   "cell_type": "code",
   "execution_count": null,
   "metadata": {},
   "outputs": [],
   "source": []
  }
 ],
 "metadata": {
  "kernelspec": {
   "display_name": "PythonData",
   "language": "python",
   "name": "pythondata"
  },
  "language_info": {
   "codemirror_mode": {
    "name": "ipython",
    "version": 3
   },
   "file_extension": ".py",
   "mimetype": "text/x-python",
   "name": "python",
   "nbconvert_exporter": "python",
   "pygments_lexer": "ipython3",
   "version": "3.7.6"
  }
 },
 "nbformat": 4,
 "nbformat_minor": 4
}
